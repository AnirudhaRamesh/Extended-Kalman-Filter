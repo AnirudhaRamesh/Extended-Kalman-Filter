{
 "cells": [
  {
   "cell_type": "code",
   "execution_count": 1,
   "metadata": {},
   "outputs": [],
   "source": [
    "import numpy as np\n",
    "import matplotlib.pyplot as plt"
   ]
  },
  {
   "cell_type": "markdown",
   "metadata": {},
   "source": [
    "Reading data"
   ]
  },
  {
   "cell_type": "code",
   "execution_count": 4,
   "metadata": {},
   "outputs": [],
   "source": [
    "def read_data(filename) :\n",
    "    \"\"\" Function to read data from given input dataset with the format of \"Lost in the woods\" dataset. \"\"\"\n",
    "    dataset = np.load(filename)\n",
    "    # secs\n",
    "    timestamps = dataset['t']\n",
    "    # meters\n",
    "    robot_true_x = dataset['x_true']\n",
    "    robot_true_x.shape = (12609)\n",
    "\n",
    "    robot_true_y = dataset['y_true']\n",
    "    robot_true_y.shape = (12609)\n",
    "\n",
    "    robot_true_th = dataset['th_true']\n",
    "    robot_true_th.shape = (12609)\n",
    "\n",
    "    landmark_true_pos = dataset['l']\n",
    "    landmark_estimated_range = dataset['r']\n",
    "    # meter^2\n",
    "    landmark_estimated_range_var = dataset['r_var'][0][0]\n",
    "    # rad\n",
    "    landmark_estimated_bearing = dataset['b']\n",
    "    # rad^2\n",
    "    landmark_estimated_bearing_var = dataset['b_var'][0][0]\n",
    "    # m/s\n",
    "    robot_trans_speed = dataset['v']\n",
    "    robot_trans_speed.shape = (12609)\n",
    "    # m^2/s^2\n",
    "    robot_trans_speed_var = dataset['v_var'][0][0]\n",
    "    # rad/s\n",
    "    robot_rot_speed = dataset['om']\n",
    "    robot_rot_speed.shape = (12609)\n",
    "    # rad^2/s^2\n",
    "    robot_rot_speed_var = dataset['om_var'][0][0]\n",
    "    # the distance, d, between the center of the robot and the laser rangefinder [m]\n",
    "    d  = dataset['d'][0][0]\n",
    "\n",
    "    return timestamps, robot_true_x, robot_true_y, robot_true_th, landmark_true_pos, landmark_estimated_range, landmark_estimated_range_var, landmark_estimated_bearing, landmark_estimated_bearing_var, robot_trans_speed, robot_trans_speed_var, robot_rot_speed, robot_rot_speed_var, d \n"
   ]
  },
  {
   "cell_type": "code",
   "execution_count": 5,
   "metadata": {},
   "outputs": [],
   "source": [
    "\n",
    "def calc_new_position(current_x, current_y, current_th, trans_speed, rot_speed, time) :\n",
    "    \"\"\" Calculates new position of robot using motion model given :\n",
    "        current_x : _ meters \n",
    "        current_y : _ meters\n",
    "        current_th : _ radlandmark_estimated_range\n",
    "        trans_speed : _ meters/second \n",
    "        rot_speed : _ rad/second \n",
    "        time : _ seconds\n",
    "    \"\"\"\n",
    "    \n",
    "    pos_prev = np.array([current_x, current_y, current_th])\n",
    "    ang_mat = np.array([[np.cos(current_th),0],[np.sin(current_th), 0], [0,1]])\n",
    "    control = np.array([trans_speed, rot_speed])\n",
    "    new_pos =  pos_prev + time * ang_mat @ control\n",
    "    return new_pos"
   ]
  },
  {
   "cell_type": "code",
   "execution_count": 6,
   "metadata": {},
   "outputs": [],
   "source": [
    "\n",
    "def observation_model(pos, landmark_true_pos, d):\n",
    "    \"\"\"\n",
    "    return 34*1\n",
    "    take landmark_true_pos as all the landmarks\n",
    "    \"\"\"\n",
    "    output = np.zeros((34,1))\n",
    "    for i in range(landmark_true_pos.shape[0]) :\n",
    "        output[2*i] = np.sqrt((landmark_true_pos[i,0]-pos[0]-d*np.cos(pos[2]))**2 + (landmark_true_pos[i,1]-pos[1]-d*np.sin(pos[2]))**2)\n",
    "        output[2*i+1] = np.arctan2(landmark_true_pos[i,1]-pos[1]-d*np.sin(pos[2]),landmark_true_pos[i,0]-pos[0]-d*np.cos(pos[2])) - pos[2]\n",
    "    \n",
    "    return output"
   ]
  },
  {
   "cell_type": "code",
   "execution_count": null,
   "metadata": {},
   "outputs": [],
   "source": [
    "def ret_sensor_jacobian_l(x_t, r_l, d):\n",
    "    \"\"\"\n",
    "    calculates jacobian for lth landmark\n",
    "    at timestep t\n",
    "    Arguments: d, current belief, and landmark position\n",
    "    return 2*3 jacobian\n",
    "    \"\"\"\n",
    "    x_k = x_t[0]\n",
    "    y_k = x_t[1]\n",
    "    theta_k = x_t[2]\n",
    "    x_l = r_l[0]\n",
    "    y_l = r_l[1]\n",
    "    a = x_l-x_k-d*np.cos(theta_k)\n",
    "    b = y_l - y_k - d*np.sin(theta_k)\n",
    "    t = np.sqrt(a*a + b*b)\n",
    "    j_00 = -1 * a / t\n",
    "    j_01 = -1 * b / t\n",
    "    j_02 = (1/t) * (a*d*np.sin(theta_k) - b*d*np.cos(theta_k))\n",
    "    j_10 = b/(t*t)\n",
    "    j_11 = -a/(t*t)\n",
    "    j_12 = -d * (a * np.cos(theta_k) + b*np.sin(theta_k))/(t*t) - 1 \n",
    "    jacob = np.array([[j_00,j_01,j_02],[j_10,j_11,j_12]])\n",
    "    return jacob"
   ]
  },
  {
   "cell_type": "code",
   "execution_count": 7,
   "metadata": {},
   "outputs": [],
   "source": [
    "def ret_sensor_jacobian(x_t, x_l, y_l, d):\n",
    "    for i in range(17):\n",
    "        r_l = np.array([x_l[i], y_l[i]])\n",
    "    \n",
    "        if i == 0:\n",
    "            big_jacob = ret_sensor_jacobian_l(x_t, r_l, d)\n",
    "        else:\n",
    "            H = ret_sensor_jacobian_l(x_t, r_l, d)\n",
    "            big_jacob = np.concatenate((big_jacob, H), axis = 0)\n",
    "    return big_jacob"
   ]
  },
  {
   "cell_type": "code",
   "execution_count": 8,
   "metadata": {},
   "outputs": [],
   "source": [
    "def ret_motion_jacobian(prev_th, trans_speed):\n",
    "    \"\"\" Motion Jacobian only dependant on trans_speed and prev_th, \n",
    "    trans_speed : _ meters/second\n",
    "    prev_th : _ rad\n",
    "    \"\"\"\n",
    "    motion_jacobian = np.zeros((3,3))\n",
    "    I = np.eye(3)\n",
    "    term_2 = np.zeros((3,3))\n",
    "    term_2[0,2] = -trans_speed * np.sin(prev_th)\n",
    "    term_2[1,2] = trans_speed * np.cos(prev_th)\n",
    "    dt = 0.1\n",
    "    motion_jacobian = I + dt * term_2\n",
    "    \n",
    "    return motion_jacobian"
   ]
  },
  {
   "cell_type": "code",
   "execution_count": 9,
   "metadata": {},
   "outputs": [],
   "source": [
    "def ekf(prev_pos, prev_cov, control, obs, d, Rt, Qt, landmarks, time):\n",
    "    \"\"\" Takes prev position, prev_cov, current control ,and current obs \"\"\"\n",
    "    G = ret_motion_jacobian(prev_th=prev_pos[2],trans_speed=control[0])\n",
    "    x_l = landmarks[:,0]\n",
    "    y_l = landmarks[:,1]\n",
    "    H = ret_sensor_jacobian(prev_pos, x_l, y_l, d)\n",
    "    pos_current_dash = calc_new_position(prev_pos[0], prev_pos[1], prev_pos[2], control[0], control[1], time)\n",
    "    # pos_current_dash = calc_new_pos(current_control,prev_pos)\n",
    "    current_cov_dash = G@prev_cov@G.T + Rt\n",
    "    kalman_gain = current_cov_dash@H.T@np.linalg.inv(H@current_cov_dash@H.T + Qt)\n",
    "    \"\"\"\n",
    "    replacing h here\n",
    "    \"\"\"\n",
    "    h = observation_model(pos_current_dash, landmarks, d)\n",
    "    # pos_current = pos_current_dash + kalman_gain@(obs - h(pos_current_dash))\n",
    "    h.shape = 34\n",
    "    pos_current = pos_current_dash + kalman_gain@(obs - h)\n",
    "    cov_current = (np.eye(3) - kalman_gain@H)@current_cov_dash\n",
    "    \n",
    "    return pos_current, cov_current"
   ]
  },
  {
   "cell_type": "code",
   "execution_count": 10,
   "metadata": {},
   "outputs": [],
   "source": [
    "timestamps, robot_true_x, robot_true_y, robot_true_th, landmark_true_pos, landmark_estimated_range, landmark_estimated_range_var, landmark_estimated_bearing, landmark_estimated_bearing_var, robot_trans_speed, robot_trans_speed_var, robot_rot_speed, robot_rot_speed_var, d = read_data('dataset.npz')\n",
    "number_of_steps = 250\n",
    "Rt = np.diag([robot_trans_speed_var,robot_trans_speed_var, robot_rot_speed_var])\n",
    "Qt = np.zeros((34,34))\n",
    "for i in range(34):\n",
    "    if i%2==0:\n",
    "        Qt[i][i] = landmark_estimated_range_var\n",
    "    else:\n",
    "        Qt[i][i] = landmark_estimated_bearing_var"
   ]
  },
  {
   "cell_type": "code",
   "execution_count": 11,
   "metadata": {},
   "outputs": [],
   "source": [
    "\n",
    "new_pos = []\n",
    "test_pos = []"
   ]
  },
  {
   "cell_type": "code",
   "execution_count": 12,
   "metadata": {},
   "outputs": [],
   "source": [
    "\n",
    "new_pos.append([robot_true_x[0], robot_true_y[0], robot_true_th[0]])\n",
    "test_pos.append([robot_true_x[0], robot_true_y[0], robot_true_th[0]])\n",
    "cov_cur = np.diag([1,1,0.1])"
   ]
  },
  {
   "cell_type": "code",
   "execution_count": 13,
   "metadata": {},
   "outputs": [],
   "source": [
    "\n",
    "def ret_obs(landmark_estimated_range, landmark_estimated_bearing):\n",
    "    obs = np.zeros(34)\n",
    "    for i in range(17):\n",
    "        obs[2*i] = landmark_estimated_range[i]\n",
    "        obs[2*i+1] = landmark_estimated_bearing[i]\n",
    "    return obs"
   ]
  },
  {
   "cell_type": "code",
   "execution_count": null,
   "metadata": {},
   "outputs": [],
   "source": [
    "time = 0.1\n",
    "for i in range(1,number_of_steps):\n",
    "    temp = calc_new_position(new_pos[i-1][0],new_pos[i-1][1],new_pos[i-1][2],robot_trans_speed[i-1], robot_rot_speed[i-1],time)\n",
    "    # jac = ret_motion_jacobian(new_pos[i-1][2],robot_trans_speed[i-1])\n",
    "    new_pos.append(temp)\n",
    "\n",
    "    temp, cov_cur = ekf(test_pos[i-1], cov_cur, np.array([robot_trans_speed[i], robot_rot_speed[i]]), ret_obs(landmark_estimated_range[i],landmark_estimated_bearing[i]), d, Rt, Qt, landmark_true_pos, time)\n",
    "    test_pos.append(temp)\n",
    "\n",
    "\n",
    "new_pos = np.array(new_pos)\n",
    "test_pos = np.array(test_pos)"
   ]
  }
 ],
 "metadata": {
  "kernelspec": {
   "display_name": "Python 3",
   "language": "python",
   "name": "python3"
  },
  "language_info": {
   "codemirror_mode": {
    "name": "ipython",
    "version": 3
   },
   "file_extension": ".py",
   "mimetype": "text/x-python",
   "name": "python",
   "nbconvert_exporter": "python",
   "pygments_lexer": "ipython3",
   "version": "3.5.2"
  }
 },
 "nbformat": 4,
 "nbformat_minor": 2
}
